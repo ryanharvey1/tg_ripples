{
 "cells": [
  {
   "cell_type": "code",
   "execution_count": 1,
   "source": [
    "import pandas as pd\n",
    "import glob as glob\n",
    "import os"
   ],
   "outputs": [],
   "metadata": {}
  },
  {
   "cell_type": "markdown",
   "source": [
    "### need a basic csv with session names"
   ],
   "metadata": {}
  },
  {
   "cell_type": "markdown",
   "source": [
    "### locate processed files to use "
   ],
   "metadata": {}
  },
  {
   "cell_type": "code",
   "execution_count": 2,
   "source": [
    "file_path = '/Volumes/Seagate Backup Plus Drive/Projects/ClarkP30_Recordings/ProcessedData'\n",
    "files = glob.glob(file_path+'/*.mat')"
   ],
   "outputs": [],
   "metadata": {}
  },
  {
   "cell_type": "markdown",
   "source": [
    "### make df and add session info"
   ],
   "metadata": {}
  },
  {
   "cell_type": "code",
   "execution_count": 3,
   "source": [
    "df = pd.DataFrame()\n",
    "df['session'] = [os.path.splitext(os.path.basename(f))[0] for f in files]"
   ],
   "outputs": [],
   "metadata": {}
  },
  {
   "cell_type": "markdown",
   "source": [
    "### add group ids"
   ],
   "metadata": {}
  },
  {
   "cell_type": "code",
   "execution_count": 4,
   "source": [
    "tg = ['ATN07','ATN15']\n",
    "wt = ['ATN08','ATN10','ATN17']"
   ],
   "outputs": [],
   "metadata": {}
  },
  {
   "cell_type": "code",
   "execution_count": 5,
   "source": [
    "regstr = '|'.join(wt)\n",
    "idx = df['session'].str.upper().str.contains(regstr)    \n",
    "df.loc[idx,'group'] = 'control'\n",
    "\n",
    "\n",
    "regstr = '|'.join(tg)\n",
    "idx = df['session'].str.upper().str.contains(regstr)    \n",
    "df.loc[idx,'group'] = 'tg'"
   ],
   "outputs": [],
   "metadata": {}
  },
  {
   "cell_type": "code",
   "execution_count": 6,
   "source": [
    "df"
   ],
   "outputs": [
    {
     "output_type": "execute_result",
     "data": {
      "text/plain": [
       "                  session    group\n",
       "0   ATN17_S20190826120645  control\n",
       "1   ATN17_S20190906163739  control\n",
       "2   ATN17_S20190916163012  control\n",
       "3   ATN17_S20190923172622  control\n",
       "4   ATN07_S20180927163519       tg\n",
       "..                    ...      ...\n",
       "75  ATN07_S20180807143014       tg\n",
       "76  ATN07_S20180808135418       tg\n",
       "77  ATN07_S20180809173125       tg\n",
       "78  ATN07_S20180820095236       tg\n",
       "79  ATN07_S20180914103110       tg\n",
       "\n",
       "[80 rows x 2 columns]"
      ],
      "text/html": [
       "<div>\n",
       "<style scoped>\n",
       "    .dataframe tbody tr th:only-of-type {\n",
       "        vertical-align: middle;\n",
       "    }\n",
       "\n",
       "    .dataframe tbody tr th {\n",
       "        vertical-align: top;\n",
       "    }\n",
       "\n",
       "    .dataframe thead th {\n",
       "        text-align: right;\n",
       "    }\n",
       "</style>\n",
       "<table border=\"1\" class=\"dataframe\">\n",
       "  <thead>\n",
       "    <tr style=\"text-align: right;\">\n",
       "      <th></th>\n",
       "      <th>session</th>\n",
       "      <th>group</th>\n",
       "    </tr>\n",
       "  </thead>\n",
       "  <tbody>\n",
       "    <tr>\n",
       "      <th>0</th>\n",
       "      <td>ATN17_S20190826120645</td>\n",
       "      <td>control</td>\n",
       "    </tr>\n",
       "    <tr>\n",
       "      <th>1</th>\n",
       "      <td>ATN17_S20190906163739</td>\n",
       "      <td>control</td>\n",
       "    </tr>\n",
       "    <tr>\n",
       "      <th>2</th>\n",
       "      <td>ATN17_S20190916163012</td>\n",
       "      <td>control</td>\n",
       "    </tr>\n",
       "    <tr>\n",
       "      <th>3</th>\n",
       "      <td>ATN17_S20190923172622</td>\n",
       "      <td>control</td>\n",
       "    </tr>\n",
       "    <tr>\n",
       "      <th>4</th>\n",
       "      <td>ATN07_S20180927163519</td>\n",
       "      <td>tg</td>\n",
       "    </tr>\n",
       "    <tr>\n",
       "      <th>...</th>\n",
       "      <td>...</td>\n",
       "      <td>...</td>\n",
       "    </tr>\n",
       "    <tr>\n",
       "      <th>75</th>\n",
       "      <td>ATN07_S20180807143014</td>\n",
       "      <td>tg</td>\n",
       "    </tr>\n",
       "    <tr>\n",
       "      <th>76</th>\n",
       "      <td>ATN07_S20180808135418</td>\n",
       "      <td>tg</td>\n",
       "    </tr>\n",
       "    <tr>\n",
       "      <th>77</th>\n",
       "      <td>ATN07_S20180809173125</td>\n",
       "      <td>tg</td>\n",
       "    </tr>\n",
       "    <tr>\n",
       "      <th>78</th>\n",
       "      <td>ATN07_S20180820095236</td>\n",
       "      <td>tg</td>\n",
       "    </tr>\n",
       "    <tr>\n",
       "      <th>79</th>\n",
       "      <td>ATN07_S20180914103110</td>\n",
       "      <td>tg</td>\n",
       "    </tr>\n",
       "  </tbody>\n",
       "</table>\n",
       "<p>80 rows × 2 columns</p>\n",
       "</div>"
      ]
     },
     "metadata": {},
     "execution_count": 6
    }
   ],
   "metadata": {}
  },
  {
   "cell_type": "markdown",
   "source": [
    "### save"
   ],
   "metadata": {}
  },
  {
   "cell_type": "code",
   "execution_count": 7,
   "source": [
    "df.to_csv('/Volumes/Seagate Backup Plus Drive/Projects/ClarkP30_Recordings/analysis/df_session.csv')\n"
   ],
   "outputs": [],
   "metadata": {}
  },
  {
   "cell_type": "code",
   "execution_count": null,
   "source": [],
   "outputs": [],
   "metadata": {}
  }
 ],
 "metadata": {
  "kernelspec": {
   "name": "python3",
   "display_name": "Python 3.9.5 64-bit ('tg_ripples': conda)"
  },
  "language_info": {
   "codemirror_mode": {
    "name": "ipython",
    "version": 3
   },
   "file_extension": ".py",
   "mimetype": "text/x-python",
   "name": "python",
   "nbconvert_exporter": "python",
   "pygments_lexer": "ipython3",
   "version": "3.9.5"
  },
  "interpreter": {
   "hash": "2131b13647be4405c2e4f6c2ec8a9d5c3f155c8ddc26928982fb006ff7f7c3db"
  }
 },
 "nbformat": 4,
 "nbformat_minor": 5
}